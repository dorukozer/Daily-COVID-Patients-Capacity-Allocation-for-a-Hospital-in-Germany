{
 "cells": [
  {
   "cell_type": "code",
   "execution_count": 1,
   "id": "690c6138",
   "metadata": {},
   "outputs": [],
   "source": [
    "import pandas as pd\n",
    "import numpy as np\n",
    "import matplotlib.pyplot as plt\n",
    "import statsmodels.api as sm\n",
    "from sklearn.linear_model import Ridge, RidgeCV, Lasso, LassoCV\n",
    "import warnings\n",
    "from sklearn.tree import DecisionTreeRegressor\n",
    "from sklearn.ensemble import RandomForestRegressor, GradientBoostingRegressor, BaggingRegressor\n",
    "warnings.filterwarnings(\"ignore\")\n",
    "from gurobipy import *\n",
    "plt.style.use('ggplot')"
   ]
  },
  {
   "cell_type": "code",
   "execution_count": 2,
   "id": "c3f3ed81",
   "metadata": {},
   "outputs": [],
   "source": [
    "covid = pd.read_csv(\"owid-covid-data.csv\")\n",
    "germany = covid[covid['location'] == 'Germany']\n",
    "start_date = '2021-09-24'\n",
    "end_date = '2022-05-01'\n",
    "germany = germany[(germany.date >= start_date) & (germany.date < end_date)]\n",
    "N = len(germany)\n",
    "T = 7\n",
    "date = np.stack([germany.date.iloc[T*i+T-1] for i in range(int(N/T))])"
   ]
  },
  {
   "cell_type": "code",
   "execution_count": 3,
   "id": "a90e0136",
   "metadata": {},
   "outputs": [],
   "source": [
    "hosp_admission = np.stack([np.mean(germany.weekly_hosp_admissions_per_million.iloc[T*i:T*(i+1)]) for i in range(int(N/T))])\n",
    "cases = np.stack([np.mean(germany.new_cases_smoothed_per_million.iloc[T*i:T*(i+1)]) for i in range(int(N/T))])\n",
    "str_index = np.stack([np.mean(germany.stringency_index.iloc[T*i:T*(i+1)]) for i in range(int(N/T))])\n",
    "rt = np.stack([np.mean(germany.reproduction_rate.iloc[T*i:T*(i+1)]) for i in range(int(N/T))])\n",
    "pos_rate = np.stack([np.mean(germany.positive_rate.iloc[T*i:T*(i+1)]) for i in range(int(N/T))])\n",
    "total_vac = np.stack([np.mean(germany.people_fully_vaccinated_per_hundred.iloc[T*i:T*(i+1)]) for i in range(int(N/T))])\n",
    "booster = np.stack([np.mean(germany.total_boosters_per_hundred.iloc[T*i:T*(i+1)]) for i in range(int(N/T))])\n",
    "\n",
    "one_week_cases = np.zeros(int(N/T))\n",
    "for i in range(int(7/T),int(N/T)):\n",
    "    one_week_cases[i] = cases[i-int(7/T)]\n",
    "    \n",
    "one_week_str_index = np.zeros(int(N/T))\n",
    "for i in range(int(7/T),int(N/T)):\n",
    "    one_week_str_index[i] = str_index[i-int(7/T)]\n",
    "    \n",
    "one_week_rt = np.zeros(int(N/T))\n",
    "for i in range(int(7/T),int(N/T)):\n",
    "    one_week_rt[i] = rt[i-int(7/T)]\n",
    "    \n",
    "one_week_pos_rate = np.zeros(int(N/T))\n",
    "for i in range(int(7/T),int(N/T)):\n",
    "    one_week_pos_rate[i] = pos_rate[i-int(7/T)]\n",
    "    \n",
    "one_week_total_vac = np.zeros(int(N/T))\n",
    "for i in range(int(7/T),int(N/T)):\n",
    "    one_week_total_vac[i] = total_vac[i-int(7/T)]\n",
    "    \n",
    "one_week_booster = np.zeros(int(N/T))\n",
    "for i in range(int(7/T),int(N/T)):\n",
    "    one_week_booster[i] = booster[i-int(7/T)]"
   ]
  },
  {
   "cell_type": "code",
   "execution_count": 4,
   "id": "cce58b9c",
   "metadata": {},
   "outputs": [],
   "source": [
    "new_germany = pd.DataFrame()\n",
    "new_germany['date'] = date\n",
    "new_germany['hosp_admission'] = hosp_admission\n",
    "#new_germany['one_week_cases'] = one_week_cases\n",
    "#new_germany.one_week_cases = new_germany.one_week_cases.fillna(method='backfill')\n",
    "new_germany['log_one_week_cases'] = np.log(one_week_cases)\n",
    "new_germany.log_one_week_cases = new_germany.log_one_week_cases.fillna(method='backfill')\n",
    "new_germany['str_index'] = str_index\n",
    "new_germany['one_week_str_index'] = one_week_str_index\n",
    "new_germany['one_week_total_vac'] = one_week_total_vac\n",
    "new_germany['one_week_rt'] = one_week_rt\n",
    "new_germany['one_week_pos_rate'] = one_week_pos_rate\n",
    "new_germany['one_week_total_vac'] = one_week_total_vac\n",
    "new_germany['one_week_total_vac'] = new_germany['one_week_total_vac'].fillna(0)\n",
    "new_germany['one_week_booster'] = one_week_booster"
   ]
  },
  {
   "cell_type": "code",
   "execution_count": 5,
   "id": "95720d57",
   "metadata": {},
   "outputs": [],
   "source": [
    "mobility_2021 = pd.read_csv(\"2021_DE_Region_Mobility_Report.csv\")\n",
    "mobility_2021 = mobility_2021[mobility_2021.date >= start_date]\n",
    "dates_2021 = sorted(list(set(mobility_2021.date)))\n",
    "mobility_2021 = mobility_2021.iloc[:len(dates_2021),:]\n",
    "mobility_2022 = pd.read_csv(\"2022_DE_Region_Mobility_Report.csv\")\n",
    "mobility_2022 = mobility_2022[mobility_2022.date < end_date]\n",
    "dates_2022 = sorted(list(set(mobility_2022.date)))\n",
    "mobility_2022 = mobility_2022.iloc[:len(dates_2022),:]\n"
   ]
  },
  {
   "cell_type": "code",
   "execution_count": 6,
   "id": "0f8b42c8",
   "metadata": {},
   "outputs": [],
   "source": [
    "retail_and_recreation = []\n",
    "grocery_and_pharmacy = []\n",
    "parks = []\n",
    "workplaces = []\n",
    "residential = []\n",
    "transit = []\n",
    "for date in dates_2021:\n",
    "    retail_and_recreation.append(int(mobility_2021[mobility_2021.date == date].retail_and_recreation_percent_change_from_baseline))\n",
    "    grocery_and_pharmacy.append(int(mobility_2021[mobility_2021.date == date].grocery_and_pharmacy_percent_change_from_baseline))\n",
    "    parks.append(int(mobility_2021[mobility_2021.date == date].parks_percent_change_from_baseline))\n",
    "    workplaces.append(int(mobility_2021[mobility_2021.date == date].workplaces_percent_change_from_baseline))\n",
    "    residential.append(int(mobility_2021[mobility_2021.date == date].residential_percent_change_from_baseline))\n",
    "    transit.append(int(mobility_2021[mobility_2021.date == date].transit_stations_percent_change_from_baseline))"
   ]
  },
  {
   "cell_type": "code",
   "execution_count": 7,
   "id": "b8308a19",
   "metadata": {},
   "outputs": [],
   "source": [
    "for date in dates_2022:\n",
    "    retail_and_recreation.append(int(mobility_2022[mobility_2022.date == date].retail_and_recreation_percent_change_from_baseline))\n",
    "    grocery_and_pharmacy.append(int(mobility_2022[mobility_2022.date == date].grocery_and_pharmacy_percent_change_from_baseline))\n",
    "    parks.append(int(mobility_2022[mobility_2022.date == date].parks_percent_change_from_baseline))\n",
    "    workplaces.append(int(mobility_2022[mobility_2022.date == date].workplaces_percent_change_from_baseline))\n",
    "    residential.append(int(mobility_2022[mobility_2022.date == date].residential_percent_change_from_baseline))\n",
    "    transit.append(int(mobility_2022[mobility_2022.date == date].transit_stations_percent_change_from_baseline))"
   ]
  },
  {
   "cell_type": "code",
   "execution_count": 8,
   "id": "514a84bb",
   "metadata": {},
   "outputs": [],
   "source": [
    "one_week_retail_rec = np.zeros(int(N/T))\n",
    "for i in range(int(7/T),int(N/T)):\n",
    "    one_week_retail_rec[i] = np.mean(retail_and_recreation[i-int(7/T):i])\n",
    "\n",
    "one_week_grocery_pharmacy = np.zeros(int(N/T))\n",
    "for i in range(int(7/T),int(N/T)):\n",
    "    one_week_grocery_pharmacy[i] = np.mean(grocery_and_pharmacy[i-int(7/T):])\n",
    "\n",
    "one_week_parks = np.zeros(int(N/T))\n",
    "for i in range(int(7/T),int(N/T)):\n",
    "    one_week_parks[i] = np.mean(parks[i-int(7/T):i])\n",
    "    \n",
    "one_week_workplaces = np.zeros(int(N/T))\n",
    "for i in range(int(7/T),int(N/T)):\n",
    "    one_week_workplaces[i] = np.mean(workplaces[i-int(7/T):i])\n",
    "\n",
    "one_week_residential = np.zeros(int(N/T))\n",
    "for i in range(int(7/T),int(N/T)):\n",
    "    one_week_residential[i] = np.mean(residential[i-int(7/T):i])\n",
    "    \n",
    "one_week_transit = np.zeros(int(N/T))\n",
    "for i in range(int(7/T),int(N/T)):\n",
    "    one_week_transit[i] = np.mean(transit[i-int(7/T):i])"
   ]
  },
  {
   "cell_type": "code",
   "execution_count": 9,
   "id": "6456f27c",
   "metadata": {},
   "outputs": [],
   "source": [
    "new_germany['one_week_retail_rec'] = one_week_retail_rec\n",
    "new_germany['one_week_grocery_pharmacy'] = one_week_grocery_pharmacy\n",
    "new_germany['one_week_parks'] = one_week_parks\n",
    "new_germany['one_week_workplaces'] = one_week_workplaces\n",
    "new_germany['one_week_residential'] = one_week_residential\n",
    "new_germany['one_week_transit'] = one_week_transit"
   ]
  },
  {
   "cell_type": "code",
   "execution_count": 10,
   "id": "c4359a7d",
   "metadata": {},
   "outputs": [],
   "source": [
    "def MAE(sales, forecast):\n",
    "    error = sales - forecast\n",
    "    return np.mean(np.abs(error))\n",
    "def MAPE(sales, forecast):\n",
    "    error = sales - forecast\n",
    "    return np.mean(np.abs(error / sales))\n",
    "def RMSE(sales, forecast):\n",
    "    error = sales - forecast\n",
    "    return np.sqrt(np.mean(np.square(error)))"
   ]
  },
  {
   "cell_type": "code",
   "execution_count": 11,
   "id": "3e3095c9",
   "metadata": {},
   "outputs": [],
   "source": [
    "training_set = new_germany.iloc[int(7/T):int(0.7*N/T)]\n",
    "test_set = new_germany.iloc[int(0.7*N/T):]"
   ]
  },
  {
   "cell_type": "code",
   "execution_count": 12,
   "id": "e19b0d5c",
   "metadata": {},
   "outputs": [],
   "source": [
    "x_train = training_set.iloc[:,2:]\n",
    "y_train = training_set.iloc[:,1]\n",
    "x_test = test_set.iloc[:,2:]\n",
    "y_test = test_set.iloc[:,1]"
   ]
  },
  {
   "cell_type": "code",
   "execution_count": 13,
   "id": "c5464a67",
   "metadata": {},
   "outputs": [
    {
     "name": "stdout",
     "output_type": "stream",
     "text": [
      "['log_one_week_cases', 'str_index', 'one_week_rt', 'one_week_booster', 'one_week_parks']\n"
     ]
    },
    {
     "data": {
      "text/html": [
       "<table class=\"simpletable\">\n",
       "<caption>OLS Regression Results</caption>\n",
       "<tr>\n",
       "  <th>Dep. Variable:</th>     <td>hosp_admission</td>  <th>  R-squared:         </th> <td>   0.978</td>\n",
       "</tr>\n",
       "<tr>\n",
       "  <th>Model:</th>                   <td>OLS</td>       <th>  Adj. R-squared:    </th> <td>   0.971</td>\n",
       "</tr>\n",
       "<tr>\n",
       "  <th>Method:</th>             <td>Least Squares</td>  <th>  F-statistic:       </th> <td>   127.4</td>\n",
       "</tr>\n",
       "<tr>\n",
       "  <th>Date:</th>             <td>Sun, 12 Jun 2022</td> <th>  Prob (F-statistic):</th> <td>3.68e-11</td>\n",
       "</tr>\n",
       "<tr>\n",
       "  <th>Time:</th>                 <td>13:54:07</td>     <th>  Log-Likelihood:    </th> <td> -59.024</td>\n",
       "</tr>\n",
       "<tr>\n",
       "  <th>No. Observations:</th>      <td>    20</td>      <th>  AIC:               </th> <td>   130.0</td>\n",
       "</tr>\n",
       "<tr>\n",
       "  <th>Df Residuals:</th>          <td>    14</td>      <th>  BIC:               </th> <td>   136.0</td>\n",
       "</tr>\n",
       "<tr>\n",
       "  <th>Df Model:</th>              <td>     5</td>      <th>                     </th>     <td> </td>   \n",
       "</tr>\n",
       "<tr>\n",
       "  <th>Covariance Type:</th>      <td>nonrobust</td>    <th>                     </th>     <td> </td>   \n",
       "</tr>\n",
       "</table>\n",
       "<table class=\"simpletable\">\n",
       "<tr>\n",
       "           <td></td>             <th>coef</th>     <th>std err</th>      <th>t</th>      <th>P>|t|</th>  <th>[0.025</th>    <th>0.975]</th>  \n",
       "</tr>\n",
       "<tr>\n",
       "  <th>const</th>              <td> -201.0377</td> <td>   15.790</td> <td>  -12.732</td> <td> 0.000</td> <td> -234.904</td> <td> -167.171</td>\n",
       "</tr>\n",
       "<tr>\n",
       "  <th>log_one_week_cases</th> <td>   47.4188</td> <td>    3.029</td> <td>   15.657</td> <td> 0.000</td> <td>   40.923</td> <td>   53.915</td>\n",
       "</tr>\n",
       "<tr>\n",
       "  <th>str_index</th>          <td>    0.3399</td> <td>    0.162</td> <td>    2.099</td> <td> 0.054</td> <td>   -0.007</td> <td>    0.687</td>\n",
       "</tr>\n",
       "<tr>\n",
       "  <th>one_week_rt</th>        <td>   20.0709</td> <td>    7.791</td> <td>    2.576</td> <td> 0.022</td> <td>    3.360</td> <td>   36.782</td>\n",
       "</tr>\n",
       "<tr>\n",
       "  <th>one_week_booster</th>   <td>   -1.4642</td> <td>    0.111</td> <td>  -13.248</td> <td> 0.000</td> <td>   -1.701</td> <td>   -1.227</td>\n",
       "</tr>\n",
       "<tr>\n",
       "  <th>one_week_parks</th>     <td>   -0.1087</td> <td>    0.056</td> <td>   -1.939</td> <td> 0.073</td> <td>   -0.229</td> <td>    0.012</td>\n",
       "</tr>\n",
       "</table>\n",
       "<table class=\"simpletable\">\n",
       "<tr>\n",
       "  <th>Omnibus:</th>       <td> 0.122</td> <th>  Durbin-Watson:     </th> <td>   1.933</td>\n",
       "</tr>\n",
       "<tr>\n",
       "  <th>Prob(Omnibus):</th> <td> 0.941</td> <th>  Jarque-Bera (JB):  </th> <td>   0.085</td>\n",
       "</tr>\n",
       "<tr>\n",
       "  <th>Skew:</th>          <td> 0.095</td> <th>  Prob(JB):          </th> <td>   0.959</td>\n",
       "</tr>\n",
       "<tr>\n",
       "  <th>Kurtosis:</th>      <td> 2.745</td> <th>  Cond. No.          </th> <td>1.33e+03</td>\n",
       "</tr>\n",
       "</table><br/><br/>Notes:<br/>[1] Standard Errors assume that the covariance matrix of the errors is correctly specified.<br/>[2] The condition number is large, 1.33e+03. This might indicate that there are<br/>strong multicollinearity or other numerical problems."
      ],
      "text/plain": [
       "<class 'statsmodels.iolib.summary.Summary'>\n",
       "\"\"\"\n",
       "                            OLS Regression Results                            \n",
       "==============================================================================\n",
       "Dep. Variable:         hosp_admission   R-squared:                       0.978\n",
       "Model:                            OLS   Adj. R-squared:                  0.971\n",
       "Method:                 Least Squares   F-statistic:                     127.4\n",
       "Date:                Sun, 12 Jun 2022   Prob (F-statistic):           3.68e-11\n",
       "Time:                        13:54:07   Log-Likelihood:                -59.024\n",
       "No. Observations:                  20   AIC:                             130.0\n",
       "Df Residuals:                      14   BIC:                             136.0\n",
       "Df Model:                           5                                         \n",
       "Covariance Type:            nonrobust                                         \n",
       "======================================================================================\n",
       "                         coef    std err          t      P>|t|      [0.025      0.975]\n",
       "--------------------------------------------------------------------------------------\n",
       "const               -201.0377     15.790    -12.732      0.000    -234.904    -167.171\n",
       "log_one_week_cases    47.4188      3.029     15.657      0.000      40.923      53.915\n",
       "str_index              0.3399      0.162      2.099      0.054      -0.007       0.687\n",
       "one_week_rt           20.0709      7.791      2.576      0.022       3.360      36.782\n",
       "one_week_booster      -1.4642      0.111    -13.248      0.000      -1.701      -1.227\n",
       "one_week_parks        -0.1087      0.056     -1.939      0.073      -0.229       0.012\n",
       "==============================================================================\n",
       "Omnibus:                        0.122   Durbin-Watson:                   1.933\n",
       "Prob(Omnibus):                  0.941   Jarque-Bera (JB):                0.085\n",
       "Skew:                           0.095   Prob(JB):                        0.959\n",
       "Kurtosis:                       2.745   Cond. No.                     1.33e+03\n",
       "==============================================================================\n",
       "\n",
       "Notes:\n",
       "[1] Standard Errors assume that the covariance matrix of the errors is correctly specified.\n",
       "[2] The condition number is large, 1.33e+03. This might indicate that there are\n",
       "strong multicollinearity or other numerical problems.\n",
       "\"\"\""
      ]
     },
     "execution_count": 13,
     "metadata": {},
     "output_type": "execute_result"
    }
   ],
   "source": [
    "lasso = Lasso(normalize=True) \n",
    "lasso.set_params(alpha = 0.2)\n",
    "lasso.fit(x_train, y_train)   \n",
    "coefs = lasso.coef_ \n",
    "print([elem for elem in x_train.columns[list(np.where(coefs != 0)[0])]])\n",
    "x_train_red = x_train.iloc[:,list(np.where(coefs != 0)[0])]\n",
    "x_test_red = x_test.iloc[:,list(np.where(coefs != 0)[0])]\n",
    "x_train_red = sm.add_constant(x_train_red)\n",
    "x_test_red = sm.add_constant(x_test_red)\n",
    "reg_model = sm.OLS(y_train, x_train_red)\n",
    "results = reg_model.fit()\n",
    "results.summary()"
   ]
  },
  {
   "cell_type": "code",
   "execution_count": 14,
   "id": "d4dade87",
   "metadata": {},
   "outputs": [
    {
     "name": "stdout",
     "output_type": "stream",
     "text": [
      "4.628725562081308\n",
      "17.490285790702163\n"
     ]
    }
   ],
   "source": [
    "print(RMSE(results.predict(x_train_red), y_train))\n",
    "print(RMSE(results.predict(x_test_red), y_test))"
   ]
  },
  {
   "cell_type": "code",
   "execution_count": 15,
   "id": "81a22aeb",
   "metadata": {},
   "outputs": [
    {
     "data": {
      "image/png": "[encoded data removed]",
      "text/plain": [
       "<Figure size 432x288 with 1 Axes>"
      ]
     },
     "metadata": {},
     "output_type": "display_data"
    }
   ],
   "source": [
    "plt.plot(results.predict(x_train_red), label = \"pred\")\n",
    "plt.plot(y_train, label = \"real\")\n",
    "plt.legend()\n",
    "plt.show()"
   ]
  },
  {
   "cell_type": "code",
   "execution_count": 16,
   "id": "5b8c9893",
   "metadata": {},
   "outputs": [
    {
     "data": {
      "image/png": "[encoded data removed]",
      "text/plain": [
       "<Figure size 432x288 with 1 Axes>"
      ]
     },
     "metadata": {},
     "output_type": "display_data"
    }
   ],
   "source": [
    "plt.plot(results.predict(x_test_red), label = \"pred\")\n",
    "plt.plot(y_test, label = \"real\")\n",
    "plt.legend()\n",
    "plt.show()"
   ]
  },
  {
   "cell_type": "code",
   "execution_count": 17,
   "id": "06cee20f",
   "metadata": {},
   "outputs": [
    {
     "data": {
      "image/png": "[encoded data removed]",
      "text/plain": [
       "<Figure size 432x288 with 1 Axes>"
      ]
     },
     "metadata": {},
     "output_type": "display_data"
    }
   ],
   "source": [
    "plt.plot(results.predict(pd.concat([x_train_red, x_test_red])), label = \"pred\")\n",
    "plt.plot(pd.concat([y_train, y_test]), label = \"real\")\n",
    "plt.legend()\n",
    "plt.show()"
   ]
  },
  {
   "cell_type": "code",
   "execution_count": 18,
   "id": "fb2c6109",
   "metadata": {},
   "outputs": [],
   "source": [
    "def random_forest(max_features, x_train, y_train, x_test, y_test):\n",
    "    random_forest = RandomForestRegressor(random_state=23, max_features=max_features)\n",
    "    result = random_forest.fit(x_train, y_train)\n",
    "    return result,RMSE(result.predict(x_train), y_train), RMSE(result.predict(x_test), y_test)"
   ]
  },
  {
   "cell_type": "code",
   "execution_count": 19,
   "id": "61128fa7",
   "metadata": {},
   "outputs": [],
   "source": [
    "min_error = float('inf')\n",
    "training_error = float('inf')\n",
    "random_forest_model = None\n",
    "features_star = None\n",
    "for max_features in range(2,len(x_train.columns)+1):\n",
    "    result, train_error, test_error = random_forest(max_features, x_train, y_train, x_test, y_test)\n",
    "    if test_error < min_error:\n",
    "        features_star = max_features\n",
    "        random_forest_model = result\n",
    "        training_error = train_error\n",
    "        min_error = test_error"
   ]
  },
  {
   "cell_type": "code",
   "execution_count": 20,
   "id": "6acb0e81",
   "metadata": {},
   "outputs": [
    {
     "data": {
      "image/png": "[encoded data removed]",
      "text/plain": [
       "<Figure size 432x288 with 1 Axes>"
      ]
     },
     "metadata": {},
     "output_type": "display_data"
    },
    {
     "name": "stdout",
     "output_type": "stream",
     "text": [
      "12\n",
      "7.416667994077847\n",
      "18.288729046969568\n"
     ]
    }
   ],
   "source": [
    "plt.plot(range(len(new_germany)-1),random_forest_model.predict(pd.concat([x_train, x_test])), label = \"pred\")\n",
    "plt.plot(range(len(new_germany)-1),pd.concat([y_train, y_test]), label = \"real\")\n",
    "plt.legend()\n",
    "plt.show()\n",
    "print(features_star)\n",
    "print(train_error)\n",
    "print(min_error)"
   ]
  },
  {
   "cell_type": "code",
   "execution_count": 21,
   "id": "97d69397",
   "metadata": {},
   "outputs": [
    {
     "name": "stdout",
     "output_type": "stream",
     "text": [
      "Index(['log_one_week_cases', 'one_week_grocery_pharmacy', 'one_week_pos_rate',\n",
      "       'one_week_rt'],\n",
      "      dtype='object')\n"
     ]
    },
    {
     "data": {
      "image/png": "[encoded data removed]",
      "text/plain": [
       "<Figure size 432x288 with 1 Axes>"
      ]
     },
     "metadata": {},
     "output_type": "display_data"
    }
   ],
   "source": [
    "Importance = pd.DataFrame({'Importance':random_forest_model.feature_importances_*100}, \n",
    "                          )\n",
    "\n",
    "Importance = Importance.sort_values(by = 'Importance', \n",
    "                       axis = 0, \n",
    "                       ascending = True)\n",
    "\n",
    "Importance.plot(kind = 'barh', \n",
    "                color = 'r')\n",
    "plt.xlabel('Variable Importance')\n",
    "plt.gca().legend_ = None\n",
    "print(x_train.columns[[0,8,5,4]])"
   ]
  },
  {
   "cell_type": "code",
   "execution_count": 22,
   "id": "3a46a915",
   "metadata": {},
   "outputs": [],
   "source": [
    "def regression_tree(depth, x_train, y_train, x_test, y_test):\n",
    "    regression_tree = DecisionTreeRegressor(random_state = 23, max_depth=depth)\n",
    "    result = regression_tree.fit(x_train, y_train)\n",
    "    return result, RMSE(result.predict(x_train), y_train), RMSE(result.predict(x_test), y_test)"
   ]
  },
  {
   "cell_type": "code",
   "execution_count": 23,
   "id": "90455a7c",
   "metadata": {},
   "outputs": [],
   "source": [
    "min_error = float('inf')\n",
    "min_error_train = float('inf')\n",
    "regression_tree_model = None\n",
    "depth_star = None\n",
    "for depth in [2,3,4,5,8,9,10,11,12,15,20,30]:\n",
    "    result, train_error, test_error = regression_tree(depth, x_train, y_train, x_test, y_test)\n",
    "    if test_error < min_error:\n",
    "        min_error_train = train_error\n",
    "        depth_star = depth\n",
    "        min_error = test_error\n",
    "        regression_tree_model = result"
   ]
  },
  {
   "cell_type": "code",
   "execution_count": 24,
   "id": "4c257c3a",
   "metadata": {},
   "outputs": [
    {
     "data": {
      "image/png": "[encoded data removed]",
      "text/plain": [
       "<Figure size 432x288 with 1 Axes>"
      ]
     },
     "metadata": {},
     "output_type": "display_data"
    },
    {
     "name": "stdout",
     "output_type": "stream",
     "text": [
      "4\n",
      "2.3627932912357865\n",
      "19.192075978260632\n"
     ]
    }
   ],
   "source": [
    "plt.plot(range(len(new_germany)-1),regression_tree_model.predict(pd.concat([x_train, x_test])), label = \"pred\")\n",
    "plt.plot(range(len(new_germany)-1),pd.concat([y_train, y_test]), label = \"real\")\n",
    "plt.legend()\n",
    "plt.show()\n",
    "print(depth_star)\n",
    "print(min_error_train)\n",
    "print(min_error)"
   ]
  },
  {
   "cell_type": "code",
   "execution_count": 25,
   "id": "00039ac7",
   "metadata": {},
   "outputs": [
    {
     "name": "stdout",
     "output_type": "stream",
     "text": [
      "Index(['one_week_total_vac', 'log_one_week_cases', 'one_week_retail_rec',\n",
      "       'one_week_rt'],\n",
      "      dtype='object')\n"
     ]
    },
    {
     "data": {
      "image/png": "[encoded data removed]",
      "text/plain": [
       "<Figure size 432x288 with 1 Axes>"
      ]
     },
     "metadata": {},
     "output_type": "display_data"
    }
   ],
   "source": [
    "Importance = pd.DataFrame({'Importance':regression_tree_model.feature_importances_*100}, \n",
    "                          )\n",
    "\n",
    "Importance = Importance.sort_values(by = 'Importance', \n",
    "                       axis = 0, \n",
    "                       ascending = True)\n",
    "\n",
    "Importance.plot(kind = 'barh', \n",
    "                color = 'r')\n",
    "plt.xlabel('Variable Importance')\n",
    "plt.gca().legend_ = None\n",
    "print(x_train.columns[[3,0,7,4]])"
   ]
  },
  {
   "cell_type": "code",
   "execution_count": 26,
   "id": "6868c6fc",
   "metadata": {},
   "outputs": [],
   "source": [
    "def boosted_tree(depth, lr, x_train, y_train, x_test, y_test):\n",
    "    boosted_tree = GradientBoostingRegressor(learning_rate=lr, max_depth=depth, random_state = 23)\n",
    "    result = boosted_tree.fit(x_train, y_train)\n",
    "    return result, RMSE(result.predict(x_train), y_train), RMSE(result.predict(x_test), y_test)"
   ]
  },
  {
   "cell_type": "code",
   "execution_count": 27,
   "id": "b1b4160d",
   "metadata": {},
   "outputs": [],
   "source": [
    "min_error = float('inf')\n",
    "min_error_train = float('inf')\n",
    "boosted_tree_model = None\n",
    "lr_opt = None\n",
    "depth_opt = None\n",
    "for lr in [0.1*i for i in range(1,11)]:\n",
    "    for depth in np.linspace(1,30,30):\n",
    "        result, train_error, test_error = boosted_tree(depth, lr, x_train, y_train, x_test, y_test)\n",
    "        if test_error < min_error:\n",
    "            lr_opt = lr\n",
    "            depth_opt = depth\n",
    "            min_error_train = train_error\n",
    "            min_error = test_error\n",
    "            boosted_tree_model = result"
   ]
  },
  {
   "cell_type": "code",
   "execution_count": 28,
   "id": "4fcec64f",
   "metadata": {},
   "outputs": [
    {
     "data": {
      "image/png": "[encoded data removed]",
      "text/plain": [
       "<Figure size 432x288 with 1 Axes>"
      ]
     },
     "metadata": {},
     "output_type": "display_data"
    },
    {
     "name": "stdout",
     "output_type": "stream",
     "text": [
      "3.0\n",
      "0.30000000000000004\n",
      "2.4362094703580234e-07\n",
      "15.455034918717631\n"
     ]
    }
   ],
   "source": [
    "plt.plot(range(len(new_germany)-1),boosted_tree_model.predict(pd.concat([x_train, x_test])), label = \"pred\")\n",
    "plt.plot(range(len(new_germany)-1),pd.concat([y_train, y_test]), label = \"real\")\n",
    "plt.legend()\n",
    "plt.show()\n",
    "print(depth_opt)\n",
    "print(lr_opt)\n",
    "print(min_error_train)\n",
    "print(min_error)"
   ]
  },
  {
   "cell_type": "code",
   "execution_count": 29,
   "id": "0f58b1a1",
   "metadata": {},
   "outputs": [
    {
     "name": "stdout",
     "output_type": "stream",
     "text": [
      "Index(['one_week_total_vac', 'log_one_week_cases', 'one_week_rt',\n",
      "       'one_week_grocery_pharmacy'],\n",
      "      dtype='object')\n"
     ]
    },
    {
     "data": {
      "image/png": "[encoded data removed]",
      "text/plain": [
       "<Figure size 432x288 with 1 Axes>"
      ]
     },
     "metadata": {},
     "output_type": "display_data"
    }
   ],
   "source": [
    "Importance = pd.DataFrame({'Importance':boosted_tree_model.feature_importances_*100}, \n",
    "                          )\n",
    "\n",
    "Importance = Importance.sort_values(by = 'Importance', \n",
    "                       axis = 0, \n",
    "                       ascending = True)\n",
    "\n",
    "Importance.plot(kind = 'barh', \n",
    "                color = 'r')\n",
    "plt.xlabel('Variable Importance')\n",
    "plt.gca().legend_ = None\n",
    "print(x_train.columns[[3,0,4,8]])"
   ]
  },
  {
   "cell_type": "code",
   "execution_count": 30,
   "id": "e46c9b81",
   "metadata": {},
   "outputs": [
    {
     "name": "stdout",
     "output_type": "stream",
     "text": [
      "Restricted license - for non-production use only - expires 2023-10-25\n"
     ]
    }
   ],
   "source": [
    "n_tr = len(x_train_red)                                        # Number of months in training set\n",
    "n_te = len(x_test_red)                                         # Number of months in test set\n",
    "\n",
    "y_train_hat = results.predict(x_train_red)\n",
    "y_test_hat = results.predict(x_test_red)\n",
    "\n",
    "service_level = 0.95\n",
    "c_u = 10                                                       # Underage cost \n",
    "c_o = (1-service_level)/service_level * c_u                    # Overage cost \n",
    "model1 = Model(\"OPTIMIZATION\")                                 # define a name for our model\n",
    "Q = model1.addVar(name=\"Optimal Order\", lb=0)                  # define variable Q as optimal order \n",
    "Z_pos = model1.addVars(range(0,n_tr+n_te), name=\"Underage\", lb=0)   # define variable for underage\n",
    "Z_neg = model1.addVars(range(0,n_tr+n_te), name=\"Overage\", lb=0)    # define variable for overage"
   ]
  },
  {
   "cell_type": "code",
   "execution_count": 31,
   "id": "51b82b14",
   "metadata": {},
   "outputs": [
    {
     "data": {
      "text/plain": [
       "{0: <gurobi.Constr *Awaiting Model Update*>,\n",
       " 1: <gurobi.Constr *Awaiting Model Update*>,\n",
       " 2: <gurobi.Constr *Awaiting Model Update*>,\n",
       " 3: <gurobi.Constr *Awaiting Model Update*>,\n",
       " 4: <gurobi.Constr *Awaiting Model Update*>,\n",
       " 5: <gurobi.Constr *Awaiting Model Update*>,\n",
       " 6: <gurobi.Constr *Awaiting Model Update*>,\n",
       " 7: <gurobi.Constr *Awaiting Model Update*>,\n",
       " 8: <gurobi.Constr *Awaiting Model Update*>,\n",
       " 9: <gurobi.Constr *Awaiting Model Update*>,\n",
       " 10: <gurobi.Constr *Awaiting Model Update*>,\n",
       " 11: <gurobi.Constr *Awaiting Model Update*>,\n",
       " 12: <gurobi.Constr *Awaiting Model Update*>,\n",
       " 13: <gurobi.Constr *Awaiting Model Update*>,\n",
       " 14: <gurobi.Constr *Awaiting Model Update*>,\n",
       " 15: <gurobi.Constr *Awaiting Model Update*>,\n",
       " 16: <gurobi.Constr *Awaiting Model Update*>,\n",
       " 17: <gurobi.Constr *Awaiting Model Update*>,\n",
       " 18: <gurobi.Constr *Awaiting Model Update*>,\n",
       " 19: <gurobi.Constr *Awaiting Model Update*>,\n",
       " 20: <gurobi.Constr *Awaiting Model Update*>,\n",
       " 21: <gurobi.Constr *Awaiting Model Update*>,\n",
       " 22: <gurobi.Constr *Awaiting Model Update*>,\n",
       " 23: <gurobi.Constr *Awaiting Model Update*>,\n",
       " 24: <gurobi.Constr *Awaiting Model Update*>,\n",
       " 25: <gurobi.Constr *Awaiting Model Update*>,\n",
       " 26: <gurobi.Constr *Awaiting Model Update*>,\n",
       " 27: <gurobi.Constr *Awaiting Model Update*>,\n",
       " 28: <gurobi.Constr *Awaiting Model Update*>,\n",
       " 29: <gurobi.Constr *Awaiting Model Update*>}"
      ]
     },
     "execution_count": 31,
     "metadata": {},
     "output_type": "execute_result"
    }
   ],
   "source": [
    "model1.addConstrs((Z_pos[t] >= pd.concat([y_train_hat, y_test_hat]).iloc[t] - Q for t in range(0,n_tr+n_te)), name='Underage Level')  # define constraint for Underage\n",
    "model1.addConstrs((Z_neg[t] >= Q - pd.concat([y_train_hat, y_test_hat]).iloc[t] for t in range(0,n_tr+n_te)), name='Overage Level')   # define constraint for Overage"
   ]
  },
  {
   "cell_type": "code",
   "execution_count": 32,
   "id": "e4cb35b0",
   "metadata": {},
   "outputs": [
    {
     "name": "stdout",
     "output_type": "stream",
     "text": [
      "Gurobi Optimizer version 9.5.1 build v9.5.1rc2 (mac64[arm])\n",
      "Thread count: 8 physical cores, 8 logical processors, using up to 8 threads\n",
      "Optimize a model with 60 rows, 61 columns and 120 nonzeros\n",
      "Model fingerprint: 0x0fb474df\n",
      "Coefficient statistics:\n",
      "  Matrix range     [1e+00, 1e+00]\n",
      "  Objective range  [2e-02, 3e-01]\n",
      "  Bounds range     [0e+00, 0e+00]\n",
      "  RHS range        [3e+01, 1e+02]\n",
      "Presolve time: 0.00s\n",
      "Presolved: 60 rows, 61 columns, 120 nonzeros\n",
      "\n",
      "Iteration    Objective       Primal Inf.    Dual Inf.      Time\n",
      "       0    0.0000000e+00   2.689880e+03   0.000000e+00      0s\n",
      "      30    1.9402044e+01   0.000000e+00   0.000000e+00      0s\n",
      "\n",
      "Solved in 30 iterations and 0.01 seconds (0.00 work units)\n",
      "Optimal objective  1.940204363e+01\n",
      "Optimal Order 125.141746\n",
      "Underage[9] 2.077225\n",
      "Overage[0] 88.262755\n",
      "Overage[1] 92.486936\n",
      "Overage[2] 89.194945\n",
      "Overage[3] 73.250364\n",
      "Overage[4] 54.736296\n",
      "Overage[5] 37.998817\n",
      "Overage[6] 20.396488\n",
      "Overage[7] 4.901522\n",
      "Overage[10] 9.502235\n",
      "Overage[11] 27.853643\n",
      "Overage[12] 51.626283\n",
      "Overage[13] 73.298282\n",
      "Overage[14] 69.717574\n",
      "Overage[15] 54.535843\n",
      "Overage[16] 44.702317\n",
      "Overage[17] 21.975145\n",
      "Overage[18] 9.398770\n",
      "Overage[19] 8.031789\n",
      "Overage[20] 9.882752\n",
      "Overage[21] 17.354163\n",
      "Overage[22] 25.523078\n",
      "Overage[23] 22.423384\n",
      "Overage[24] 13.314945\n",
      "Overage[25] 8.228286\n",
      "Overage[26] 14.010117\n",
      "Overage[27] 21.710771\n",
      "Overage[28] 38.328143\n",
      "Overage[29] 63.803563\n"
     ]
    }
   ],
   "source": [
    "obj1 = (1/(n_tr+n_te)) * quicksum(c_u * Z_pos[t] + c_o * Z_neg[t] for t in range(0,n_tr+n_te))     # define objective function\n",
    "\n",
    "model1.setObjective(obj1, GRB.MINIMIZE)                                                # define Minimization method\n",
    "\n",
    "model1.optimize()\n",
    "\n",
    "for v in model1.getVars():                   \n",
    "    if v.X != 0:                                                                       # print non-zero variables\n",
    "        print(\"%s %f\" % (v.Varname, v.X))"
   ]
  },
  {
   "cell_type": "code",
   "execution_count": 33,
   "id": "04c3f981",
   "metadata": {},
   "outputs": [
    {
     "name": "stdout",
     "output_type": "stream",
     "text": [
      "Lasso Regression Optimal Order Quantity is: 125.14174619607499\n"
     ]
    }
   ],
   "source": [
    "opt_order_1 = Q.X\n",
    "opt_obj_1 = model1.getObjective()\n",
    "\n",
    "print(f'Lasso Regression Optimal Order Quantity is: {opt_order_1}')"
   ]
  },
  {
   "cell_type": "code",
   "execution_count": 34,
   "id": "bb0d0c82",
   "metadata": {},
   "outputs": [],
   "source": [
    "n_tr = len(x_train)                                        # Number of months in training set\n",
    "n_te = len(x_test)                                         # Number of months in test set\n",
    "\n",
    "y_train_hat = random_forest_model.predict(x_train)\n",
    "y_test_hat = random_forest_model.predict(x_test)\n",
    "\n",
    "service_level = 0.95\n",
    "c_u = 10                                                       # Underage cost \n",
    "c_o = (1-service_level)/service_level * c_u                    # Overage cost \n",
    "model1 = Model(\"OPTIMIZATION\")                                 # define a name for our model\n",
    "Q = model1.addVar(name=\"Optimal Order\", lb=0)                  # define variable Q as optimal order \n",
    "Z_pos = model1.addVars(range(0,n_tr+n_te), name=\"Underage\", lb=0)   # define variable for underage\n",
    "Z_neg = model1.addVars(range(0,n_tr+n_te), name=\"Overage\", lb=0)    # define variable for overage"
   ]
  },
  {
   "cell_type": "code",
   "execution_count": 35,
   "id": "8f7a1f41",
   "metadata": {},
   "outputs": [
    {
     "data": {
      "text/plain": [
       "{0: <gurobi.Constr *Awaiting Model Update*>,\n",
       " 1: <gurobi.Constr *Awaiting Model Update*>,\n",
       " 2: <gurobi.Constr *Awaiting Model Update*>,\n",
       " 3: <gurobi.Constr *Awaiting Model Update*>,\n",
       " 4: <gurobi.Constr *Awaiting Model Update*>,\n",
       " 5: <gurobi.Constr *Awaiting Model Update*>,\n",
       " 6: <gurobi.Constr *Awaiting Model Update*>,\n",
       " 7: <gurobi.Constr *Awaiting Model Update*>,\n",
       " 8: <gurobi.Constr *Awaiting Model Update*>,\n",
       " 9: <gurobi.Constr *Awaiting Model Update*>,\n",
       " 10: <gurobi.Constr *Awaiting Model Update*>,\n",
       " 11: <gurobi.Constr *Awaiting Model Update*>,\n",
       " 12: <gurobi.Constr *Awaiting Model Update*>,\n",
       " 13: <gurobi.Constr *Awaiting Model Update*>,\n",
       " 14: <gurobi.Constr *Awaiting Model Update*>,\n",
       " 15: <gurobi.Constr *Awaiting Model Update*>,\n",
       " 16: <gurobi.Constr *Awaiting Model Update*>,\n",
       " 17: <gurobi.Constr *Awaiting Model Update*>,\n",
       " 18: <gurobi.Constr *Awaiting Model Update*>,\n",
       " 19: <gurobi.Constr *Awaiting Model Update*>,\n",
       " 20: <gurobi.Constr *Awaiting Model Update*>,\n",
       " 21: <gurobi.Constr *Awaiting Model Update*>,\n",
       " 22: <gurobi.Constr *Awaiting Model Update*>,\n",
       " 23: <gurobi.Constr *Awaiting Model Update*>,\n",
       " 24: <gurobi.Constr *Awaiting Model Update*>,\n",
       " 25: <gurobi.Constr *Awaiting Model Update*>,\n",
       " 26: <gurobi.Constr *Awaiting Model Update*>,\n",
       " 27: <gurobi.Constr *Awaiting Model Update*>,\n",
       " 28: <gurobi.Constr *Awaiting Model Update*>,\n",
       " 29: <gurobi.Constr *Awaiting Model Update*>}"
      ]
     },
     "execution_count": 35,
     "metadata": {},
     "output_type": "execute_result"
    }
   ],
   "source": [
    "model1.addConstrs((Z_pos[t] >= np.concatenate((y_train_hat, y_test_hat))[t] - Q for t in range(0,n_tr+n_te)), name='Underage Level')  # define constraint for Underage\n",
    "model1.addConstrs((Z_neg[t] >= Q - np.concatenate((y_train_hat, y_test_hat))[t] for t in range(0,n_tr+n_te)), name='Overage Level')   # define constraint for Overage"
   ]
  },
  {
   "cell_type": "code",
   "execution_count": 36,
   "id": "c732f194",
   "metadata": {},
   "outputs": [
    {
     "name": "stdout",
     "output_type": "stream",
     "text": [
      "Gurobi Optimizer version 9.5.1 build v9.5.1rc2 (mac64[arm])\n",
      "Thread count: 8 physical cores, 8 logical processors, using up to 8 threads\n",
      "Optimize a model with 60 rows, 61 columns and 120 nonzeros\n",
      "Model fingerprint: 0x7b8cf74c\n",
      "Coefficient statistics:\n",
      "  Matrix range     [1e+00, 1e+00]\n",
      "  Objective range  [2e-02, 3e-01]\n",
      "  Bounds range     [0e+00, 0e+00]\n",
      "  RHS range        [4e+01, 1e+02]\n",
      "Presolve time: 0.00s\n",
      "Presolved: 60 rows, 61 columns, 120 nonzeros\n",
      "\n",
      "Iteration    Objective       Primal Inf.    Dual Inf.      Time\n",
      "       0    0.0000000e+00   2.757131e+03   0.000000e+00      0s\n",
      "      30    1.5702413e+01   0.000000e+00   0.000000e+00      0s\n",
      "\n",
      "Solved in 30 iterations and 0.00 seconds (0.00 work units)\n",
      "Optimal objective  1.570241328e+01\n",
      "Optimal Order 117.644393\n",
      "Underage[9] 6.141857\n",
      "Overage[0] 76.962844\n",
      "Overage[1] 80.870624\n",
      "Overage[2] 72.990936\n",
      "Overage[3] 59.145746\n",
      "Overage[4] 42.243233\n",
      "Overage[5] 35.368746\n",
      "Overage[6] 17.096093\n",
      "Overage[7] 7.757763\n",
      "Overage[10] 7.737987\n",
      "Overage[11] 22.166169\n",
      "Overage[12] 42.322600\n",
      "Overage[13] 52.476646\n",
      "Overage[14] 47.963900\n",
      "Overage[15] 39.845743\n",
      "Overage[16] 24.558706\n",
      "Overage[17] 17.144834\n",
      "Overage[18] 7.200111\n",
      "Overage[19] 2.686974\n",
      "Overage[20] 10.760649\n",
      "Overage[21] 12.338891\n",
      "Overage[22] 15.513931\n",
      "Overage[23] 7.258334\n",
      "Overage[24] 6.792087\n",
      "Overage[25] 9.822726\n",
      "Overage[26] 8.953266\n",
      "Overage[27] 12.692839\n",
      "Overage[28] 16.808256\n",
      "Overage[29] 20.861639\n",
      "Random Forest Optimal Order Quantity is: 117.64439285714298\n"
     ]
    }
   ],
   "source": [
    "obj1 = (1/(n_tr+n_te)) * quicksum(c_u * Z_pos[t] + c_o * Z_neg[t] for t in range(0,n_tr+n_te))     # define objective function\n",
    "\n",
    "model1.setObjective(obj1, GRB.MINIMIZE)                                                # define Minimization method\n",
    "\n",
    "model1.optimize()\n",
    "\n",
    "for v in model1.getVars():                   \n",
    "    if v.X != 0:                                                                       # print non-zero variables\n",
    "        print(\"%s %f\" % (v.Varname, v.X))\n",
    "        \n",
    "opt_order_1 = Q.X\n",
    "opt_obj_1 = model1.getObjective()\n",
    "\n",
    "print(f'Random Forest Optimal Order Quantity is: {opt_order_1}')"
   ]
  },
  {
   "cell_type": "code",
   "execution_count": 37,
   "id": "2bb1b84a",
   "metadata": {},
   "outputs": [],
   "source": [
    "n_tr = len(x_train)                                        # Number of months in training set\n",
    "n_te = len(x_test)                                         # Number of months in test set\n",
    "\n",
    "y_train_hat = regression_tree_model.predict(x_train)\n",
    "y_test_hat = regression_tree_model.predict(x_test)\n",
    "\n",
    "service_level = 0.95\n",
    "c_u = 10                                                       # Underage cost \n",
    "c_o = (1-service_level)/service_level * c_u                    # Overage cost \n",
    "model1 = Model(\"OPTIMIZATION\")                                 # define a name for our model\n",
    "Q = model1.addVar(name=\"Optimal Order\", lb=0)                  # define variable Q as optimal order \n",
    "Z_pos = model1.addVars(range(0,n_tr+n_te), name=\"Underage\", lb=0)   # define variable for underage\n",
    "Z_neg = model1.addVars(range(0,n_tr+n_te), name=\"Overage\", lb=0)    # define variable for overage"
   ]
  },
  {
   "cell_type": "code",
   "execution_count": 38,
   "id": "6914928a",
   "metadata": {},
   "outputs": [
    {
     "data": {
      "text/plain": [
       "{0: <gurobi.Constr *Awaiting Model Update*>,\n",
       " 1: <gurobi.Constr *Awaiting Model Update*>,\n",
       " 2: <gurobi.Constr *Awaiting Model Update*>,\n",
       " 3: <gurobi.Constr *Awaiting Model Update*>,\n",
       " 4: <gurobi.Constr *Awaiting Model Update*>,\n",
       " 5: <gurobi.Constr *Awaiting Model Update*>,\n",
       " 6: <gurobi.Constr *Awaiting Model Update*>,\n",
       " 7: <gurobi.Constr *Awaiting Model Update*>,\n",
       " 8: <gurobi.Constr *Awaiting Model Update*>,\n",
       " 9: <gurobi.Constr *Awaiting Model Update*>,\n",
       " 10: <gurobi.Constr *Awaiting Model Update*>,\n",
       " 11: <gurobi.Constr *Awaiting Model Update*>,\n",
       " 12: <gurobi.Constr *Awaiting Model Update*>,\n",
       " 13: <gurobi.Constr *Awaiting Model Update*>,\n",
       " 14: <gurobi.Constr *Awaiting Model Update*>,\n",
       " 15: <gurobi.Constr *Awaiting Model Update*>,\n",
       " 16: <gurobi.Constr *Awaiting Model Update*>,\n",
       " 17: <gurobi.Constr *Awaiting Model Update*>,\n",
       " 18: <gurobi.Constr *Awaiting Model Update*>,\n",
       " 19: <gurobi.Constr *Awaiting Model Update*>,\n",
       " 20: <gurobi.Constr *Awaiting Model Update*>,\n",
       " 21: <gurobi.Constr *Awaiting Model Update*>,\n",
       " 22: <gurobi.Constr *Awaiting Model Update*>,\n",
       " 23: <gurobi.Constr *Awaiting Model Update*>,\n",
       " 24: <gurobi.Constr *Awaiting Model Update*>,\n",
       " 25: <gurobi.Constr *Awaiting Model Update*>,\n",
       " 26: <gurobi.Constr *Awaiting Model Update*>,\n",
       " 27: <gurobi.Constr *Awaiting Model Update*>,\n",
       " 28: <gurobi.Constr *Awaiting Model Update*>,\n",
       " 29: <gurobi.Constr *Awaiting Model Update*>}"
      ]
     },
     "execution_count": 38,
     "metadata": {},
     "output_type": "execute_result"
    }
   ],
   "source": [
    "model1.addConstrs((Z_pos[t] >= np.concatenate((y_train_hat, y_test_hat))[t] - Q for t in range(0,n_tr+n_te)), name='Underage Level')  # define constraint for Underage\n",
    "model1.addConstrs((Z_neg[t] >= Q - np.concatenate((y_train_hat, y_test_hat))[t] for t in range(0,n_tr+n_te)), name='Overage Level')   # define constraint for Overage"
   ]
  },
  {
   "cell_type": "code",
   "execution_count": 39,
   "id": "aa3dc8d8",
   "metadata": {},
   "outputs": [
    {
     "name": "stdout",
     "output_type": "stream",
     "text": [
      "Gurobi Optimizer version 9.5.1 build v9.5.1rc2 (mac64[arm])\n",
      "Thread count: 8 physical cores, 8 logical processors, using up to 8 threads\n",
      "Optimize a model with 60 rows, 61 columns and 120 nonzeros\n",
      "Model fingerprint: 0x08094086\n",
      "Coefficient statistics:\n",
      "  Matrix range     [1e+00, 1e+00]\n",
      "  Objective range  [2e-02, 3e-01]\n",
      "  Bounds range     [0e+00, 0e+00]\n",
      "  RHS range        [3e+01, 1e+02]\n",
      "Presolve time: 0.00s\n",
      "Presolved: 60 rows, 61 columns, 120 nonzeros\n",
      "\n",
      "Iteration    Objective       Primal Inf.    Dual Inf.      Time\n",
      "       0    0.0000000e+00   2.852223e+03   0.000000e+00      0s\n",
      "      30    1.6843480e+01   0.000000e+00   0.000000e+00      0s\n",
      "\n",
      "Solved in 30 iterations and 0.01 seconds (0.00 work units)\n",
      "Optimal objective  1.684347953e+01\n",
      "Optimal Order 127.076714\n",
      "Overage[0] 97.221571\n",
      "Overage[1] 95.566571\n",
      "Overage[2] 88.313000\n",
      "Overage[3] 70.555857\n",
      "Overage[4] 62.628943\n",
      "Overage[5] 37.715643\n",
      "Overage[6] 21.870429\n",
      "Overage[7] 3.655000\n",
      "Overage[10] 9.158619\n",
      "Overage[11] 37.715643\n",
      "Overage[12] 62.628943\n",
      "Overage[13] 62.628943\n",
      "Overage[14] 62.628943\n",
      "Overage[15] 62.628943\n",
      "Overage[16] 45.728714\n",
      "Overage[17] 29.529143\n",
      "Overage[18] 9.158619\n",
      "Overage[19] 9.158619\n",
      "Overage[20] 9.158619\n",
      "Overage[21] 9.158619\n",
      "Overage[22] 9.158619\n",
      "Overage[23] 9.158619\n",
      "Overage[24] 9.158619\n",
      "Overage[25] 9.158619\n",
      "Overage[26] 9.158619\n",
      "Overage[27] 9.158619\n",
      "Overage[28] 9.158619\n",
      "Overage[29] 9.158619\n",
      "Regression Tree Optimal Order Quantity is: 127.07671428571427\n"
     ]
    }
   ],
   "source": [
    "obj1 = (1/(n_tr+n_te)) * quicksum(c_u * Z_pos[t] + c_o * Z_neg[t] for t in range(0,n_tr+n_te))     # define objective function\n",
    "\n",
    "model1.setObjective(obj1, GRB.MINIMIZE)                                                # define Minimization method\n",
    "\n",
    "model1.optimize()\n",
    "\n",
    "for v in model1.getVars():                   \n",
    "    if v.X != 0:                                                                       # print non-zero variables\n",
    "        print(\"%s %f\" % (v.Varname, v.X))\n",
    "        \n",
    "opt_order_1 = Q.X\n",
    "opt_obj_1 = model1.getObjective()\n",
    "\n",
    "print(f'Regression Tree Optimal Order Quantity is: {opt_order_1}')"
   ]
  },
  {
   "cell_type": "code",
   "execution_count": 40,
   "id": "da0835d7",
   "metadata": {},
   "outputs": [],
   "source": [
    "n_tr = len(x_train)                                        # Number of months in training set\n",
    "n_te = len(x_test)                                         # Number of months in test set\n",
    "\n",
    "y_train_hat = boosted_tree_model.predict(x_train)\n",
    "y_test_hat = boosted_tree_model.predict(x_test)\n",
    "\n",
    "service_level = 0.95\n",
    "c_u = 10                                                       # Underage cost \n",
    "c_o = (1-service_level)/service_level * c_u                    # Overage cost \n",
    "model1 = Model(\"OPTIMIZATION\")                                 # define a name for our model\n",
    "Q = model1.addVar(name=\"Optimal Order\", lb=0)                  # define variable Q as optimal order \n",
    "Z_pos = model1.addVars(range(0,n_tr+n_te), name=\"Underage\", lb=0)   # define variable for underage\n",
    "Z_neg = model1.addVars(range(0,n_tr+n_te), name=\"Overage\", lb=0)    # define variable for overage"
   ]
  },
  {
   "cell_type": "code",
   "execution_count": 41,
   "id": "49005719",
   "metadata": {},
   "outputs": [
    {
     "data": {
      "text/plain": [
       "{0: <gurobi.Constr *Awaiting Model Update*>,\n",
       " 1: <gurobi.Constr *Awaiting Model Update*>,\n",
       " 2: <gurobi.Constr *Awaiting Model Update*>,\n",
       " 3: <gurobi.Constr *Awaiting Model Update*>,\n",
       " 4: <gurobi.Constr *Awaiting Model Update*>,\n",
       " 5: <gurobi.Constr *Awaiting Model Update*>,\n",
       " 6: <gurobi.Constr *Awaiting Model Update*>,\n",
       " 7: <gurobi.Constr *Awaiting Model Update*>,\n",
       " 8: <gurobi.Constr *Awaiting Model Update*>,\n",
       " 9: <gurobi.Constr *Awaiting Model Update*>,\n",
       " 10: <gurobi.Constr *Awaiting Model Update*>,\n",
       " 11: <gurobi.Constr *Awaiting Model Update*>,\n",
       " 12: <gurobi.Constr *Awaiting Model Update*>,\n",
       " 13: <gurobi.Constr *Awaiting Model Update*>,\n",
       " 14: <gurobi.Constr *Awaiting Model Update*>,\n",
       " 15: <gurobi.Constr *Awaiting Model Update*>,\n",
       " 16: <gurobi.Constr *Awaiting Model Update*>,\n",
       " 17: <gurobi.Constr *Awaiting Model Update*>,\n",
       " 18: <gurobi.Constr *Awaiting Model Update*>,\n",
       " 19: <gurobi.Constr *Awaiting Model Update*>,\n",
       " 20: <gurobi.Constr *Awaiting Model Update*>,\n",
       " 21: <gurobi.Constr *Awaiting Model Update*>,\n",
       " 22: <gurobi.Constr *Awaiting Model Update*>,\n",
       " 23: <gurobi.Constr *Awaiting Model Update*>,\n",
       " 24: <gurobi.Constr *Awaiting Model Update*>,\n",
       " 25: <gurobi.Constr *Awaiting Model Update*>,\n",
       " 26: <gurobi.Constr *Awaiting Model Update*>,\n",
       " 27: <gurobi.Constr *Awaiting Model Update*>,\n",
       " 28: <gurobi.Constr *Awaiting Model Update*>,\n",
       " 29: <gurobi.Constr *Awaiting Model Update*>}"
      ]
     },
     "execution_count": 41,
     "metadata": {},
     "output_type": "execute_result"
    }
   ],
   "source": [
    "model1.addConstrs((Z_pos[t] >= np.concatenate((y_train_hat, y_test_hat))[t] - Q for t in range(0,n_tr+n_te)), name='Underage Level')  # define constraint for Underage\n",
    "model1.addConstrs((Z_neg[t] >= Q - np.concatenate((y_train_hat, y_test_hat))[t] for t in range(0,n_tr+n_te)), name='Overage Level')   # define constraint for Overage"
   ]
  },
  {
   "cell_type": "code",
   "execution_count": 42,
   "id": "f3b88be5",
   "metadata": {},
   "outputs": [
    {
     "name": "stdout",
     "output_type": "stream",
     "text": [
      "Gurobi Optimizer version 9.5.1 build v9.5.1rc2 (mac64[arm])\n",
      "Thread count: 8 physical cores, 8 logical processors, using up to 8 threads\n",
      "Optimize a model with 60 rows, 61 columns and 120 nonzeros\n",
      "Model fingerprint: 0x3c0d9418\n",
      "Coefficient statistics:\n",
      "  Matrix range     [1e+00, 1e+00]\n",
      "  Objective range  [2e-02, 3e-01]\n",
      "  Bounds range     [0e+00, 0e+00]\n",
      "  RHS range        [3e+01, 1e+02]\n",
      "Presolve time: 0.00s\n",
      "Presolved: 60 rows, 61 columns, 120 nonzeros\n",
      "\n",
      "Iteration    Objective       Primal Inf.    Dual Inf.      Time\n",
      "       0    0.0000000e+00   2.824537e+03   0.000000e+00      0s\n",
      "      30    1.7608617e+01   0.000000e+00   0.000000e+00      0s\n",
      "\n",
      "Solved in 30 iterations and 0.01 seconds (0.00 work units)\n",
      "Optimal objective  1.760861685e+01\n",
      "Optimal Order 125.484000\n",
      "Underage[8] 3.185429\n",
      "Overage[0] 95.628857\n",
      "Overage[1] 93.973857\n",
      "Overage[2] 86.720285\n",
      "Overage[3] 68.963143\n",
      "Overage[4] 55.571143\n",
      "Overage[5] 39.642429\n",
      "Overage[6] 20.277714\n",
      "Overage[7] 2.062286\n",
      "Overage[10] 10.705000\n",
      "Overage[11] 32.603428\n",
      "Overage[12] 58.356857\n",
      "Overage[13] 62.858857\n",
      "Overage[14] 65.263142\n",
      "Overage[15] 63.131143\n",
      "Overage[16] 44.136000\n",
      "Overage[17] 27.936428\n",
      "Overage[18] 7.480286\n",
      "Overage[19] 4.512428\n",
      "Overage[20] 9.256864\n",
      "Overage[21] 9.296891\n",
      "Overage[22] 9.732058\n",
      "Overage[23] 9.697962\n",
      "Overage[24] 4.611618\n",
      "Overage[25] 9.358229\n",
      "Overage[26] 5.537747\n",
      "Overage[27] 9.159301\n",
      "Overage[28] 18.156372\n",
      "Overage[29] 18.537697\n",
      "Boosted Tree Optimal Order Quantity is: 125.48399981696626\n"
     ]
    }
   ],
   "source": [
    "obj1 = (1/(n_tr+n_te)) * quicksum(c_u * Z_pos[t] + c_o * Z_neg[t] for t in range(0,n_tr+n_te))     # define objective function\n",
    "\n",
    "model1.setObjective(obj1, GRB.MINIMIZE)                                                # define Minimization method\n",
    "\n",
    "model1.optimize()\n",
    "\n",
    "for v in model1.getVars():                   \n",
    "    if v.X != 0:                                                                       # print non-zero variables\n",
    "        print(\"%s %f\" % (v.Varname, v.X))\n",
    "        \n",
    "opt_order_1 = Q.X\n",
    "opt_obj_1 = model1.getObjective()\n",
    "\n",
    "print(f'Boosted Tree Optimal Order Quantity is: {opt_order_1}')"
   ]
  },
  {
   "cell_type": "code",
   "execution_count": null,
   "id": "31158eb0",
   "metadata": {},
   "outputs": [],
   "source": []
  }
 ],
 "metadata": {
  "kernelspec": {
   "display_name": "Python 3 (ipykernel)",
   "language": "python",
   "name": "python3"
  },
  "language_info": {
   "codemirror_mode": {
    "name": "ipython",
    "version": 3
   },
   "file_extension": ".py",
   "mimetype": "text/x-python",
   "name": "python",
   "nbconvert_exporter": "python",
   "pygments_lexer": "ipython3",
   "version": "3.9.10"
  }
 },
 "nbformat": 4,
 "nbformat_minor": 5
}
